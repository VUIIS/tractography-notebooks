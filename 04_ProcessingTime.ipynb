{
 "metadata": {
  "name": "",
  "signature": "sha256:b13a774b72a33e8c845701e8464e527520eef1c770c9c5ac095f714927b0a386"
 },
 "nbformat": 3,
 "nbformat_minor": 0,
 "worksheets": [
  {
   "cells": [
    {
     "cell_type": "code",
     "collapsed": false,
     "input": [
      "import pandas as pd\n",
      "from glob import glob\n",
      "from subprocess import check_output"
     ],
     "language": "python",
     "metadata": {},
     "outputs": [],
     "prompt_number": 22
    },
    {
     "cell_type": "code",
     "collapsed": false,
     "input": [
      "path = '/fs0/New_Server/RCV/MR_Processed/*/StructConn/cluster/*.nii.gz.out'\n",
      "def time_spent_tracking(path):\n",
      "    with open(path) as f:\n",
      "        raw = f.read()\n",
      "    try:\n",
      "        tracking_line = [l for l in raw.split('\\n') if 'time spent' in l][0]\n",
      "        ret = float(tracking_line.split(':')[1].strip().split()[0])\n",
      "    except IndexError:\n",
      "        ret = pd.np.nan\n",
      "    finally:\n",
      "        return ret\n",
      "\n",
      "def roi_size(roi):\n",
      "    cmd = ['fslstats', roi, '-V']\n",
      "    return float(check_output(cmd).strip().split()[1])\n",
      "\n",
      "\n",
      "data = []\n",
      "all_logs = glob(path)\n",
      "print(\"{:d} logs...\".format(len(all_logs)))"
     ],
     "language": "python",
     "metadata": {},
     "outputs": [
      {
       "output_type": "stream",
       "stream": "stdout",
       "text": [
        "3244 logs...\n"
       ]
      }
     ],
     "prompt_number": 23
    },
    {
     "cell_type": "code",
     "collapsed": false,
     "input": [
      "for log in all_logs:\n",
      "    time_spent = time_spent_tracking(log)\n",
      "    roi = log.replace('cluster', 'label').replace('.out', '')\n",
      "    size = roi_size(roi)\n",
      "    data.append({'roi': os.path.basename(roi), 'time': time_spent, 'size': size})"
     ],
     "language": "python",
     "metadata": {},
     "outputs": [],
     "prompt_number": 24
    },
    {
     "cell_type": "code",
     "collapsed": false,
     "input": [
      "df = pd.DataFrame(data).sort_index(by='time', ascending=False)\n",
      "df = df.dropna()\n",
      "df.to_csv('/home/burnsss1/probtracking_times.csv')"
     ],
     "language": "python",
     "metadata": {},
     "outputs": [],
     "prompt_number": 25
    },
    {
     "cell_type": "code",
     "collapsed": false,
     "input": [
      "import seaborn as sns\n",
      "sns.regplot('size', 'time', data=df)"
     ],
     "language": "python",
     "metadata": {},
     "outputs": [],
     "prompt_number": 28
    }
   ],
   "metadata": {}
  }
 ]
}