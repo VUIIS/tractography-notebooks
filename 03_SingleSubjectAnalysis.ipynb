{
 "metadata": {
  "name": "",
  "signature": "sha256:dde75ffc4e4d7e7c30d53909eb4395b3237028bb94480fb089d3c674e6373609"
 },
 "nbformat": 3,
 "nbformat_minor": 0,
 "worksheets": [
  {
   "cells": [
    {
     "cell_type": "code",
     "collapsed": false,
     "input": [
      "import common\n",
      "reload(common)"
     ],
     "language": "python",
     "metadata": {},
     "outputs": []
    },
    {
     "cell_type": "code",
     "collapsed": false,
     "input": [
      "from datetime import datetime\n",
      "#science\n",
      "import numpy as np\n",
      "from scipy.sparse import coo_matrix\n",
      "%matplotlib inline\n",
      "import matplotlib as mpl\n",
      "mpl.rc('figure', figsize=(40, 32))\n",
      "import matplotlib.pyplot as plt\n",
      "import pandas as pd\n",
      "pd.set_option('display.max_rows', 200)\n",
      "from ipywidgets import StaticInteract, RangeWidget"
     ],
     "language": "python",
     "metadata": {},
     "outputs": []
    },
    {
     "cell_type": "code",
     "collapsed": false,
     "input": [
      "def single_plot(subject, write_figure=False):\n",
      "    conn, processed_seed_list, N = common.single_process(common.sc_dir(subject))\n",
      "    fig, ax = plt.subplots()\n",
      "    cax = ax.matshow(conn, interpolation='nearest')\n",
      "    cax.set_cmap('hot')\n",
      "    caxes = cax.get_axes()\n",
      "\n",
      "    caxes.set_xticks(range(N))\n",
      "    caxes.set_yticks(range(N))\n",
      "\n",
      "    caxes.set_xticklabels(processed_seed_list, rotation=90)\n",
      "    caxes.set_yticklabels(processed_seed_list, rotation=0)\n",
      "\n",
      "    caxes.set_xlabel('Target ROI', fontsize=20)\n",
      "    caxes.set_ylabel('Seed ROI', fontsize=20)\n",
      "\n",
      "    cbar = fig.colorbar(cax)\n",
      "    cbar.set_label('% of streamlines from seed to target', rotation=-90, fontsize=20)\n",
      "\n",
      "    title_text = ax.set_title('Structural Connectivity with Freesurfer Labels & ProbtrackX2 ({})'.format(subject), fontsize=26)\n",
      "    title_text.set_position((.5, 1.10))\n",
      "    \n",
      "    if write_figure:\n",
      "        fig_date = datetime.now().strftime('%Y-%m-%d-%H%M')\n",
      "        fig_name = os.path.join(wd, 'results/adjacency_{}.png'.format(fig_date))\n",
      "        fig.savefig(fig_name, dpi=150)\n",
      "        print(\"Wrote {}\".format(fig_name))\n",
      "    return fig\n",
      "\n",
      "\n",
      "def plot_by_index(i, plot_kwargs=None):\n",
      "    subject = common.subject_list[i]\n",
      "    if not plot_kwargs:\n",
      "        plot_kwargs = {}\n",
      "    return single_plot(subject, **plot_kwargs)\n"
     ],
     "language": "python",
     "metadata": {},
     "outputs": []
    },
    {
     "cell_type": "code",
     "collapsed": false,
     "input": [
      "for i, subject in enumerate(common.subject_list):\n",
      "    fig = plot_by_index(i)\n",
      "    plt.show()"
     ],
     "language": "python",
     "metadata": {},
     "outputs": []
    },
    {
     "cell_type": "markdown",
     "metadata": {},
     "source": [
      "# Graph Analysis"
     ]
    },
    {
     "cell_type": "code",
     "collapsed": false,
     "input": [
      "import networkx as nx\n",
      "G = nx.from_numpy_matrix(conn)\n",
      "for n, name in zip(G.nodes_iter(), processed_seed_list):\n",
      "    G.node[n]['name'] = name"
     ],
     "language": "python",
     "metadata": {},
     "outputs": []
    },
    {
     "cell_type": "code",
     "collapsed": false,
     "input": [
      "G = nx.MultiDiGraph()\n",
      "for i, name in enumerate(processed_seed_list):\n",
      "    G.add_node(i, attr_dict={'name': name})\n",
      "for i, row in enumerate(conn):\n",
      "    for j, val in enumerate(row):\n",
      "        if i != j:\n",
      "            if val > 1:\n",
      "                G.add_edge(i, j, weight=val)"
     ],
     "language": "python",
     "metadata": {},
     "outputs": []
    },
    {
     "cell_type": "code",
     "collapsed": false,
     "input": [
      "name_to_deg = {G.node[i]['name']: val for i, val in G.degree().iteritems()}\n",
      "sorted(name_to_deg, key=lambda x: name_to_deg[x], reverse=True )"
     ],
     "language": "python",
     "metadata": {},
     "outputs": []
    },
    {
     "cell_type": "code",
     "collapsed": false,
     "input": [],
     "language": "python",
     "metadata": {},
     "outputs": []
    }
   ],
   "metadata": {}
  }
 ]
}