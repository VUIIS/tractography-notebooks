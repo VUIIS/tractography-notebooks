{
 "metadata": {
  "name": "",
  "signature": "sha256:e139f7a1403cebacaf060dc16d614747b6519aad863f746983c7d6e2b79b49ad"
 },
 "nbformat": 3,
 "nbformat_minor": 0,
 "worksheets": [
  {
   "cells": [
    {
     "cell_type": "code",
     "collapsed": false,
     "input": [
      "import common\n",
      "reload(common)\n",
      "# processed_dir = common.processed_dir\n",
      "# bedpost_script_path = common.bedpost_script_path\n",
      "# hardi_dir = common.hardi_dir\n",
      "# sc_dir = common.sc_dir\n",
      "# sc_script_dir = common.sc_script_dir\n",
      "# subject_list = common.subject_list\n",
      "# variables = common.variables\n",
      "# scratch_dir = common.scratch_dir\n",
      "# seed_file_path = common.seed_file_path\n",
      "\n",
      "from datetime import datetime\n",
      "import os"
     ],
     "language": "python",
     "metadata": {},
     "outputs": [
      {
       "output_type": "stream",
       "stream": "stdout",
       "text": [
        "importing IPython notebook from common.ipynb\n"
       ]
      }
     ],
     "prompt_number": 9
    },
    {
     "cell_type": "code",
     "collapsed": false,
     "input": [
      "def pbs_path(seed, subject, fs='fs0'):\n",
      "    return os.path.join(common.sc_dir(subject, fs), 'cluster', '{}.pbs'.format(seed_n(seed))) \n",
      "\n",
      "def is_finished(seed, basedir):\n",
      "    no_label = seed.replace('label/', '')\n",
      "    result_matrix = os.path.join(basedir, 'results', '{}.probtrackx2'.format(no_label), 'matrix_seeds_to_all_targets.nii.gz')\n",
      "    return os.path.isfile(result_matrix)\n",
      "\n",
      "probtrack_pbs = \"\"\"#!/bin/bash\n",
      "\n",
      "#PBS -M scott.s.burns@vanderbilt.edu\n",
      "#PBS -m a\n",
      "#PBS -W group_list=h_vuiis\n",
      "#PBS -l nodes=1:ppn=1\n",
      "#PBS -l mem=14gb\n",
      "#PBS -l walltime=00:96:00:00\n",
      "#PBS -o {sub_scratch}/{out}\n",
      "#PBS -e {sub_scratch}/{err}\n",
      "\n",
      "\n",
      "cd {sub_scratch}\n",
      "{sub_variables}\n",
      "probtrackx2 -x {seed} \\\\\n",
      "    -s bedpostx/merged \\\\\n",
      "    -m bedpostx/nodif_brain_mask \\\\\n",
      "    -l \\\\\n",
      "    --usef \\\\\n",
      "    --s2tastext \\\\\n",
      "    --os2t \\\\\n",
      "    --onewaycondition \\\\\n",
      "    -c 0.2 \\\\\n",
      "    -S 2000 \\\\\n",
      "    --steplength=0.5 \\\\\n",
      "    -P 5000 \\\\\n",
      "    --fibthresh=0.01 \\\\\n",
      "    --distthresh=0.0 \\\\\n",
      "    --sampvox=0.0 \\\\\n",
      "    --xfm=$fs2fa \\\\\n",
      "    --meshspace=freesurfer \\\\\n",
      "    --avoid=$ventricles \\\\\n",
      "    --seedref=$fs \\\\\n",
      "    --forcedir \\\\\n",
      "    --opd \\\\\n",
      "    -V 1 \\\\\n",
      "    --omatrix1 \\\\\n",
      "    --dir={dir} \\\\\n",
      "    --waypoints=$waypoints \\\\\n",
      "    --waycond='OR' \\\\\n",
      "    --targetmasks=$seed_list \\\\\n",
      "\n",
      "rm -rf {dir}*.asc\n",
      "rsync -a {dir} cutting.vampire:{sub_fs0}/{dir}\n",
      "\"\"\"\n",
      "\n",
      "\n",
      "def seed_n(seed):\n",
      "    return seed.replace('label/', '')\n",
      "\n",
      "def pbs_text(seed, subject):\n",
      "    seed_name = seed_n(seed)\n",
      "    pbs_info = {'sub_variables': common.variables.safe_substitute(**common.get_setup_data(subject)),\n",
      "                'seed': seed,\n",
      "                'seed_name': seed_name,\n",
      "                'out': 'cluster/{}.out'.format(seed_name),\n",
      "                'err': 'cluster/{}.err'.format(seed_name),\n",
      "                'dir': 'results/{}.probtrackx2/'.format(seed_name),\n",
      "                'sub_scratch': common.scratch_dir(subject),\n",
      "                'sub_fs0': common.sc_dir(subject)}\n",
      "    return probtrack_pbs.format(**pbs_info)\n",
      "\n",
      "def pbs_path(seed, subject, fs='fs0'):\n",
      "    return os.path.join(common.sc_dir(subject, fs), 'cluster', '{}.pbs'.format(seed_n(seed))) \n",
      "\n",
      "def qsub_text(pbs_script, name=None):\n",
      "    parts = ['qsub', '-S /bin/bash',]\n",
      "    if name:\n",
      "        parts.append('-N {name}')\n",
      "    parts.append('{pbs_script}')\n",
      "    return ' '.join(parts).format(**locals())\n",
      "\n",
      "assert qsub_text('foo.pbs', name='foo') == 'qsub -S /bin/bash -N foo foo.pbs'"
     ],
     "language": "python",
     "metadata": {},
     "outputs": [],
     "prompt_number": 12
    },
    {
     "cell_type": "markdown",
     "metadata": {},
     "source": [
      "# Execute to write out cluster pbs scripts"
     ]
    },
    {
     "cell_type": "code",
     "collapsed": false,
     "input": [
      "qsubs = []\n",
      "for subject in common.subject_list:\n",
      "    scratch_path = common.scratch_dir(subject)\n",
      "    fs0 = common.sc_dir(subject)\n",
      "    !rsync -a $fs0/ $scratch_path/ --exclude 'results'\n",
      "    with open(common.seed_file_path(subject)) as f:\n",
      "        seeds = [s for s in f.read().split('\\n') if s]\n",
      "    seeds_for_subject = 0\n",
      "    for i, seed in enumerate(seeds):\n",
      "        if not is_finished(seed, fs0):\n",
      "            seeds_for_subject += 1\n",
      "            seed_name = seed_n(seed)\n",
      "            text = pbs_text(seed, subject)\n",
      "            pbs = pbs_path(seed, subject, fs='scratch/burnsss1')\n",
      "            job_name = '{}.{}'.format(subject.split('_')[0], i)\n",
      "            with open(pbs, 'w') as f:\n",
      "                f.write(text)\n",
      "            qsubs.append(qsub_text(pbs, job_name))\n",
      "    print(\"{:d} seeds left for {}\".format(seeds_for_subject, subject))\n",
      "    res_dir = os.path.join(scratch_path, 'results')\n",
      "    if not os.path.isdir(res_dir):\n",
      "        os.makedirs(res_dir)\n",
      "\n",
      "submit_all = datetime.now().strftime('/home/burnsss1/submit_all-%Y-%m-%d.sh')\n",
      "with open(submit_all, 'w') as f:\n",
      "    for i, qsub in enumerate(qsubs):\n",
      "        f.write(qsub + '\\n')\n",
      "        if (i % 4) == 0:\n",
      "            f.write('sleep 2\\n')\n",
      "print(\"Wrote {}\".format(submit_all))"
     ],
     "language": "python",
     "metadata": {},
     "outputs": [
      {
       "output_type": "stream",
       "stream": "stdout",
       "text": [
        "3 seeds left for 061_206924\n"
       ]
      },
      {
       "output_type": "stream",
       "stream": "stdout",
       "text": [
        "0 seeds left for 063_207046\n"
       ]
      },
      {
       "output_type": "stream",
       "stream": "stdout",
       "text": [
        "0 seeds left for 064_207264\n"
       ]
      },
      {
       "output_type": "stream",
       "stream": "stdout",
       "text": [
        "4 seeds left for 067_207215\n"
       ]
      },
      {
       "output_type": "stream",
       "stream": "stdout",
       "text": [
        "6 seeds left for 072_207335\n"
       ]
      },
      {
       "output_type": "stream",
       "stream": "stdout",
       "text": [
        "8 seeds left for 130_208994\n"
       ]
      },
      {
       "output_type": "stream",
       "stream": "stdout",
       "text": [
        "6 seeds left for 131_209154\n"
       ]
      },
      {
       "output_type": "stream",
       "stream": "stdout",
       "text": [
        "6 seeds left for 140_209143\n"
       ]
      },
      {
       "output_type": "stream",
       "stream": "stdout",
       "text": [
        "13 seeds left for 141_209157\n"
       ]
      },
      {
       "output_type": "stream",
       "stream": "stdout",
       "text": [
        "24 seeds left for 144_209407\n"
       ]
      },
      {
       "output_type": "stream",
       "stream": "stdout",
       "text": [
        "16 seeds left for 146_209355\n"
       ]
      },
      {
       "output_type": "stream",
       "stream": "stdout",
       "text": [
        "32 seeds left for 147_209378\n"
       ]
      },
      {
       "output_type": "stream",
       "stream": "stdout",
       "text": [
        "35 seeds left for 148_209625\n"
       ]
      },
      {
       "output_type": "stream",
       "stream": "stdout",
       "text": [
        "51 seeds left for 162_210032\n"
       ]
      },
      {
       "output_type": "stream",
       "stream": "stdout",
       "text": [
        "61 seeds left for 170_210044\n"
       ]
      },
      {
       "output_type": "stream",
       "stream": "stdout",
       "text": [
        "77 seeds left for 172_209736\n"
       ]
      },
      {
       "output_type": "stream",
       "stream": "stdout",
       "text": [
        "102 seeds left for 188_210443\n"
       ]
      },
      {
       "output_type": "stream",
       "stream": "stdout",
       "text": [
        "129 seeds left for 191_210512\n"
       ]
      },
      {
       "output_type": "stream",
       "stream": "stdout",
       "text": [
        "125 seeds left for 196_210780\n"
       ]
      },
      {
       "output_type": "stream",
       "stream": "stdout",
       "text": [
        "12 seeds left for 197_210808\n"
       ]
      },
      {
       "output_type": "stream",
       "stream": "stdout",
       "text": [
        "23 seeds left for 199_210894\n"
       ]
      },
      {
       "output_type": "stream",
       "stream": "stdout",
       "text": [
        "26 seeds left for 203_211015\n"
       ]
      },
      {
       "output_type": "stream",
       "stream": "stdout",
       "text": [
        "17 seeds left for 208_211122\n"
       ]
      },
      {
       "output_type": "stream",
       "stream": "stdout",
       "text": [
        "10 seeds left for 216_211291\n"
       ]
      },
      {
       "output_type": "stream",
       "stream": "stdout",
       "text": [
        "13 seeds left for 228_211662\n",
        "Wrote /home/burnsss1/submit_all-2014-05-12.sh\n"
       ]
      }
     ],
     "prompt_number": 13
    }
   ],
   "metadata": {}
  }
 ]
}